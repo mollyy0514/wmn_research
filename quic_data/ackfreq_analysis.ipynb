{
 "cells": [
  {
   "cell_type": "markdown",
   "metadata": {},
   "source": [
    "This is an experiment with `packetsBeforeAck = 2, 10, 15`."
   ]
  },
  {
   "cell_type": "code",
   "execution_count": null,
   "metadata": {},
   "outputs": [],
   "source": [
    "import ast\n",
    "import json\n",
    "import pandas as pd\n",
    "import numpy as np\n",
    "\n",
    "import matplotlib.pyplot as plt"
   ]
  },
  {
   "cell_type": "code",
   "execution_count": null,
   "metadata": {},
   "outputs": [],
   "source": [
    "database = \"home/wmnlab/G/quic_data/\"\n",
    "date = \"2024-07-29\"\n",
    "exp_name = \"QUIC-ack\"\n",
    "device_name = \"MacBookProM1\"\n",
    "\n",
    "exp_file_path_dict = {\"ack2\": [\"\", \"\", \"\", \"\"],\n",
    "                      \"ack10\": [\"\", \"\", \"\", \"\"],\n",
    "                      \"ack15\": [\"\", \"\", \"\", \"\"],}\n",
    "\n",
    "ack2_ul_sent_path = f\"/{database}/{date}/{exp_name}/{device_name}/#01/raw/log_20240728_2333_4200_server.csv\"\n",
    "ack2_ul_rcv_path = f\"/{database}/{date}/{exp_name}/{device_name}/#01/raw/log_20240728_2333_4200_client.csv\"\n",
    "ack2_dl_sent_path = f\"/{database}/{date}/{exp_name}/{device_name}/#01/raw/log_20240728_2333_4201_client.csv\"\n",
    "ack2_dl_rcv_path = f\"/{database}/{date}/{exp_name}/{device_name}/#01/raw/log_20240728_2333_4201_server.csv\"\n",
    "exp_file_path_dict[\"ack2\"] = [ack2_ul_sent_path, ack2_ul_rcv_path, ack2_dl_sent_path, ack2_dl_rcv_path]\n",
    "ack10_ul_sent_path = f\"/{database}/{date}/{exp_name}/{device_name}/#02/raw/log_20240728_2337_4200_server.csv\"\n",
    "ack10_ul_rcv_path = f\"/{database}/{date}/{exp_name}/{device_name}/#02/raw/log_20240728_2337_4200_client.csv\"\n",
    "ack10_dl_sent_path = f\"/{database}/{date}/{exp_name}/{device_name}/#02/raw/log_20240728_2337_4201_client.csv\"\n",
    "ack10_dl_rcv_path = f\"/{database}/{date}/{exp_name}/{device_name}/#02/raw/log_20240728_2337_4201_server.csv\"\n",
    "exp_file_path_dict[\"ack10\"] = [ack10_ul_sent_path, ack10_ul_rcv_path, ack10_dl_sent_path, ack10_dl_rcv_path]\n",
    "ack15_ul_sent_path = f\"/{database}/{date}/{exp_name}/{device_name}/#03/raw/log_20240728_2342_4200_server.csv\"\n",
    "ack15_ul_rcv_path = f\"/{database}/{date}/{exp_name}/{device_name}/#03/raw/log_20240728_2342_4200_client.csv\"\n",
    "ack15_dl_sent_path = f\"/{database}/{date}/{exp_name}/{device_name}/#03/raw/log_20240728_2342_4201_client.csv\"\n",
    "ack15_dl_rcv_path = f\"/{database}/{date}/{exp_name}/{device_name}/#03/raw/log_20240728_2342_4201_server.csv\"\n",
    "exp_file_path_dict[\"ack15\"] = [ack15_ul_sent_path, ack15_ul_rcv_path, ack15_dl_sent_path, ack15_dl_rcv_path]"
   ]
  },
  {
   "cell_type": "code",
   "execution_count": null,
   "metadata": {},
   "outputs": [],
   "source": [
    "ack2_ul_sent_df = pd.read_csv(exp_file_path_dict[\"ack2\"][0], sep=',')\n",
    "ack2_ul_sent_df = ack2_ul_sent_df[(ack2_ul_sent_df['name'] == 'transport:p_sent') & (ack2_ul_sent_df['data'].str.contains(\"'fr_t': 'ack'\"))]\n",
    "\n",
    "ack10_ul_sent_df = pd.read_csv(exp_file_path_dict[\"ack10\"][0], sep=',')\n",
    "ack10_ul_sent_df = ack10_ul_sent_df[(ack10_ul_sent_df['name'] == 'transport:p_sent') & (ack10_ul_sent_df['data'].str.contains(\"'fr_t': 'ack'\"))]\n",
    "\n",
    "ack15_ul_sent_df = pd.read_csv(exp_file_path_dict[\"ack15\"][0], sep=',')\n",
    "ack15_ul_sent_df = ack15_ul_sent_df[(ack15_ul_sent_df['name'] == 'transport:p_sent') & (ack15_ul_sent_df['data'].str.contains(\"'fr_t': 'ack'\"))]"
   ]
  },
  {
   "cell_type": "code",
   "execution_count": null,
   "metadata": {},
   "outputs": [],
   "source": [
    "ack2_dl_sent_df = pd.read_csv(exp_file_path_dict[\"ack2\"][2], sep=',')\n",
    "ack2_dl_sent_df = ack2_dl_sent_df[(ack2_dl_sent_df['name'] == 'transport:p_sent') & (ack2_dl_sent_df['data'].str.contains(\"'fr_t': 'ack'\"))]\n",
    "\n",
    "ack10_dl_sent_df = pd.read_csv(exp_file_path_dict[\"ack10\"][2], sep=',')\n",
    "ack10_dl_sent_df = ack10_dl_sent_df[(ack10_dl_sent_df['name'] == 'transport:p_sent') & (ack10_dl_sent_df['data'].str.contains(\"'fr_t': 'ack'\"))]\n",
    "\n",
    "ack15_dl_sent_df = pd.read_csv(exp_file_path_dict[\"ack15\"][2], sep=',')\n",
    "ack15_dl_sent_df = ack15_dl_sent_df[(ack15_dl_sent_df['name'] == 'transport:p_sent') & (ack15_dl_sent_df['data'].str.contains(\"'fr_t': 'ack'\"))]"
   ]
  },
  {
   "cell_type": "code",
   "execution_count": null,
   "metadata": {},
   "outputs": [],
   "source": [
    "print(len(ack2_ul_sent_df), len(ack10_ul_sent_df), len(ack15_ul_sent_df))\n",
    "print(len(ack2_dl_sent_df), len(ack10_dl_sent_df), len(ack15_dl_sent_df))"
   ]
  },
  {
   "cell_type": "code",
   "execution_count": null,
   "metadata": {},
   "outputs": [],
   "source": [
    "def getAckInfo(df):\n",
    "    df = df['data']\n",
    "    acked_ranges_list = []\n",
    "    ack_delay_list = []\n",
    "    ecn_list = []\n",
    "    # print(acked_ranges_series.iloc[0])\n",
    "    for i in range(len(df)):\n",
    "        try: \n",
    "            s = df.iloc[i]\n",
    "            data_dict = json.loads(s.replace(\"\\'\", \"\\\"\"))\n",
    "            for frame in data_dict['frames']:\n",
    "                if 'acked_ranges' in frame:\n",
    "                    for range_entry in frame['acked_ranges']:\n",
    "                        acked_ranges = range_entry\n",
    "            for frame in data_dict['frames']:\n",
    "                if 'ack_delay' in frame:\n",
    "                    ack_delay = frame['ack_delay']\n",
    "                    ack_delay_list.append(ack_delay)\n",
    "                if 'ce' in frame:\n",
    "                    if frame['ce'] != 0:\n",
    "                        ecn_list.append(True)\n",
    "                    else:\n",
    "                        ecn_list.append(False)\n",
    "            # Extract 'acked_ranges' from all frames\n",
    "            acked_ranges = [range_entry for frame in data_dict['frames'] if 'acked_ranges' in frame for range_entry in frame['acked_ranges']]\n",
    "            acked_ranges_list.append(acked_ranges)\n",
    "            # TODO: add ack_delay & ecn\n",
    "            \n",
    "        except:\n",
    "            print(s, i)\n",
    "            break\n",
    "\n",
    "    acked_ranges_df = pd.DataFrame({\"acked_ranges\": acked_ranges_list})\n",
    "    ack_delay_df = pd.DataFrame({\"ack_delay\": ack_delay_list})\n",
    "    ecn_df = pd.DataFrame({\"ecn\": ecn_list})\n",
    "\n",
    "    ack_info_df = pd.concat([acked_ranges_df, ack_delay_df, ecn_df], axis=1)\n",
    "    ack_info_df = ack_info_df.reset_index(drop=True)\n",
    "\n",
    "    return ack_info_df"
   ]
  },
  {
   "cell_type": "code",
   "execution_count": null,
   "metadata": {},
   "outputs": [],
   "source": [
    "ack2_dl_ack_info_df = getAckInfo(ack2_dl_sent_df)\n",
    "ack2_dl_ack_info_df = ack2_dl_ack_info_df.reset_index(drop=True)\n",
    "ack2_dl_sent_df = ack2_dl_sent_df.reset_index(drop=True)\n",
    "ack2_dl_sent_df = pd.concat([ack2_dl_sent_df, ack2_dl_ack_info_df], axis=1)\n",
    "ack2_dl_sent_df = ack2_dl_sent_df.reset_index(drop=True)\n",
    "\n",
    "ack2_ul_ack_info_df = getAckInfo(ack2_ul_sent_df)\n",
    "ack2_ul_ack_info_df = ack2_ul_ack_info_df.reset_index(drop=True)\n",
    "ack2_ul_sent_df = ack2_ul_sent_df.reset_index(drop=True)\n",
    "ack2_ul_sent_df = pd.concat([ack2_ul_sent_df, ack2_ul_ack_info_df], axis=1)\n",
    "ack2_ul_sent_df = ack2_ul_sent_df.reset_index(drop=True)\n",
    "\n",
    "ack10_dl_ack_info_df = getAckInfo(ack10_dl_sent_df)\n",
    "ack10_dl_ack_info_df = ack10_dl_ack_info_df.reset_index(drop=True)\n",
    "ack10_dl_sent_df = ack10_dl_sent_df.reset_index(drop=True)\n",
    "ack10_dl_sent_df = pd.concat([ack10_dl_sent_df, ack10_dl_ack_info_df], axis=1)\n",
    "ack10_dl_sent_df = ack10_dl_sent_df.reset_index(drop=True)\n",
    "\n",
    "ack10_ul_ack_info_df = getAckInfo(ack10_ul_sent_df)\n",
    "ack10_ul_ack_info_df = ack10_ul_ack_info_df.reset_index(drop=True)\n",
    "ack10_ul_sent_df = ack10_ul_sent_df.reset_index(drop=True)\n",
    "ack10_ul_sent_df = pd.concat([ack10_ul_sent_df, ack10_ul_ack_info_df], axis=1)\n",
    "ack10_ul_sent_df = ack10_ul_sent_df.reset_index(drop=True)\n",
    "\n",
    "ack15_dl_ack_info_df = getAckInfo(ack15_dl_sent_df)\n",
    "ack15_dl_ack_info_df = ack15_dl_ack_info_df.reset_index(drop=True)\n",
    "ack15_dl_sent_df = ack15_dl_sent_df.reset_index(drop=True)\n",
    "ack15_dl_sent_df = pd.concat([ack15_dl_sent_df, ack15_dl_ack_info_df], axis=1)\n",
    "ack15_dl_sent_df = ack15_dl_sent_df.reset_index(drop=True)\n",
    "\n",
    "ack15_ul_ack_info_df = getAckInfo(ack15_ul_sent_df)\n",
    "ack15_ul_ack_info_df = ack15_ul_ack_info_df.reset_index(drop=True)\n",
    "ack15_ul_sent_df = ack15_ul_sent_df.reset_index(drop=True)\n",
    "ack15_ul_sent_df = pd.concat([ack15_ul_sent_df, ack15_ul_ack_info_df], axis=1)\n",
    "ack15_ul_sent_df = ack15_ul_sent_df.reset_index(drop=True)"
   ]
  },
  {
   "cell_type": "code",
   "execution_count": null,
   "metadata": {},
   "outputs": [],
   "source": [
    "def plotAckedRanges(df):\n",
    "    plt.figure(figsize=(12, 6))\n",
    "    # Iterate over rows in the DataFrame\n",
    "    for index, row in df.iterrows():\n",
    "        ranges = row['acked_ranges']\n",
    "\n",
    "        # If ranges is a list (and not empty), plot vertical lines\n",
    "        if isinstance(ranges, list):\n",
    "            for value in ranges:\n",
    "                if len(value) < 2:\n",
    "                    plt.plot([index, index], [value[0], value[0]], color='b', linestyle='-', alpha=0.7)\n",
    "                else:\n",
    "                    plt.plot([index, index], [value[0], value[1]], color='b', linestyle='-', alpha=0.7)\n",
    "\n",
    "    # Labels and title\n",
    "    plt.xlabel('Row Index')\n",
    "    plt.ylabel('Acked Ranges')\n",
    "    plt.title('Vertical Lines Representing Acked Ranges')\n",
    "    \n",
    "    plt.grid(True)\n",
    "    plt.show()\n"
   ]
  },
  {
   "cell_type": "code",
   "execution_count": null,
   "metadata": {},
   "outputs": [],
   "source": [
    "# plotAckedRanges(ack2_dl_sent_df)\n",
    "# plotAckedRanges(ack2_ul_sent_df)\n",
    "# plotAckedRanges(ack10_dl_sent_df)\n",
    "# plotAckedRanges(ack10_ul_sent_df)\n",
    "# plotAckedRanges(ack15_dl_sent_df)\n",
    "# plotAckedRanges(ack15_ul_sent_df)"
   ]
  },
  {
   "cell_type": "code",
   "execution_count": null,
   "metadata": {},
   "outputs": [],
   "source": [
    "mean_ack2_dl_delay = ack2_dl_sent_df['ack_delay'].mean()\n",
    "mean_ack2_ul_delay = ack2_ul_sent_df['ack_delay'].mean()\n",
    "print(mean_ack2_dl_delay)\n",
    "print(mean_ack2_ul_delay)\n",
    "ack2_dl_sent_df.iloc[100000:100010]['acked_ranges']\n",
    "ack2_ul_sent_df.iloc[100000:100010]['acked_ranges']"
   ]
  },
  {
   "cell_type": "code",
   "execution_count": null,
   "metadata": {},
   "outputs": [],
   "source": [
    "mean_ack10_dl_delay = ack10_dl_sent_df['ack_delay'].mean()\n",
    "mean_ack10_ul_delay = ack10_ul_sent_df['ack_delay'].mean()\n",
    "print(mean_ack10_dl_delay)\n",
    "print(mean_ack10_ul_delay)\n",
    "ack10_dl_sent_df.iloc[100000:100010]['acked_ranges']\n",
    "print(mean_ack10_ul_delay)\n",
    "ack10_ul_sent_df.iloc[100000:100010]['acked_ranges']"
   ]
  },
  {
   "cell_type": "code",
   "execution_count": null,
   "metadata": {},
   "outputs": [],
   "source": [
    "mean_ack15_dl_delay = ack15_dl_sent_df['ack_delay'].mean()\n",
    "mean_ack15_ul_delay = ack15_ul_sent_df['ack_delay'].mean()\n",
    "print(mean_ack15_dl_delay)\n",
    "print(ack15_dl_sent_df.iloc[100000:100010]['acked_ranges'])\n",
    "print(mean_ack15_ul_delay)\n",
    "print(ack15_ul_sent_df.iloc[100000:100010]['acked_ranges'])"
   ]
  },
  {
   "cell_type": "code",
   "execution_count": null,
   "metadata": {},
   "outputs": [],
   "source": []
  }
 ],
 "metadata": {
  "kernelspec": {
   "display_name": "moxa",
   "language": "python",
   "name": "python3"
  },
  "language_info": {
   "codemirror_mode": {
    "name": "ipython",
    "version": 3
   },
   "file_extension": ".py",
   "mimetype": "text/x-python",
   "name": "python",
   "nbconvert_exporter": "python",
   "pygments_lexer": "ipython3",
   "version": "3.11.2"
  }
 },
 "nbformat": 4,
 "nbformat_minor": 2
}
